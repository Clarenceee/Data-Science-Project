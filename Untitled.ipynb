{
 "cells": [
  {
   "cell_type": "code",
   "execution_count": 905,
   "id": "471429a7",
   "metadata": {},
   "outputs": [],
   "source": [
    "import numpy as np"
   ]
  },
  {
   "cell_type": "code",
   "execution_count": 906,
   "id": "6d063f36",
   "metadata": {},
   "outputs": [],
   "source": [
    "devs = [[63.15034541269008, 18.521589431823816, 0.6176840792246652],\n",
    "[130.50661048067843, 75.96446823167115,0.6613779430913622],\n",
    "[124.89505229221768, 34.42772176499734,0.6419467939466889],\n",
    "[124.71196864008098, 262.0385664629709,1.1667031515980373],\n",
    "[78.106947336877,207.42065429590073,1.0975665065249227],\n",
    "[71.20035922248275,195.1163411561687,1.0830104728902552],\n",
    "[65.63857718802053,254.7948407878469,1.143355292841354],\n",
    "[66.41966348702805,236.70315704569668,1.1173677316763773],\n",
    "[58.820095434879164,252.433266655136,1.1096130882542765],\n",
    "[58.77878645725511,297.7085437568231,1.1496714918968434],\n",
    "[48.117873616586635,363.3707316666491,1.131708650273114]]"
   ]
  },
  {
   "cell_type": "code",
   "execution_count": 907,
   "id": "725197ba",
   "metadata": {},
   "outputs": [],
   "source": [
    "devs = np.array(devs)"
   ]
  },
  {
   "cell_type": "code",
   "execution_count": 908,
   "id": "98cd6dd4",
   "metadata": {},
   "outputs": [
    {
     "data": {
      "text/plain": [
       "(11, 3)"
      ]
     },
     "execution_count": 908,
     "metadata": {},
     "output_type": "execute_result"
    }
   ],
   "source": [
    "np.array(devs).shape"
   ]
  },
  {
   "cell_type": "code",
   "execution_count": 909,
   "id": "085db49d",
   "metadata": {},
   "outputs": [],
   "source": [
    "H_thresh = 50\n",
    "L_thresh = 100\n",
    "errors = []\n",
    "\n",
    "for dev in devs:\n",
    "    error = abs(dev[0] - H_thresh) + abs(dev[1] - L_thresh)\n",
    "    errors.append(error)"
   ]
  },
  {
   "cell_type": "code",
   "execution_count": 910,
   "id": "ea14aaa5",
   "metadata": {},
   "outputs": [
    {
     "data": {
      "text/plain": [
       "array([ 94.62875598, 104.54214225, 140.46733053, 236.7505351 ,\n",
       "       135.52760163, 116.31670038, 170.43341798, 153.12282053,\n",
       "       161.25336209, 206.48733021, 265.25285805])"
      ]
     },
     "execution_count": 910,
     "metadata": {},
     "output_type": "execute_result"
    }
   ],
   "source": [
    "np.array(errors)"
   ]
  },
  {
   "cell_type": "code",
   "execution_count": 911,
   "id": "0354d859",
   "metadata": {},
   "outputs": [
    {
     "data": {
      "text/plain": [
       "array([0.38231592, 0.33862206, 0.35805321, 0.16670315, 0.09756651,\n",
       "       0.08301047, 0.14335529, 0.11736773, 0.10961309, 0.14967149,\n",
       "       0.13170865])"
      ]
     },
     "execution_count": 911,
     "metadata": {},
     "output_type": "execute_result"
    }
   ],
   "source": [
    "spread= np.abs(devs[:,2]-1)\n",
    "spread"
   ]
  },
  {
   "cell_type": "code",
   "execution_count": 912,
   "id": "3a2219db",
   "metadata": {},
   "outputs": [
    {
     "data": {
      "text/plain": [
       "0.0830104728902552"
      ]
     },
     "execution_count": 912,
     "metadata": {},
     "output_type": "execute_result"
    }
   ],
   "source": [
    "min(spread)"
   ]
  },
  {
   "cell_type": "code",
   "execution_count": 913,
   "id": "fa0de58b",
   "metadata": {},
   "outputs": [
    {
     "data": {
      "text/plain": [
       "(array([0, 1, 5, 4, 2], dtype=int64), array([ 5,  4,  8,  7, 10], dtype=int64))"
      ]
     },
     "execution_count": 913,
     "metadata": {},
     "output_type": "execute_result"
    }
   ],
   "source": [
    "top_5_idx_err = np.argsort(errors)[:5]\n",
    "top_5_idx_spread = np.argsort(spread)[:5]\n",
    "\n",
    "top_5_idx_err,top_5_idx_spread\n"
   ]
  },
  {
   "cell_type": "code",
   "execution_count": 914,
   "id": "d6499962",
   "metadata": {},
   "outputs": [
    {
     "data": {
      "text/plain": [
       "{4, 5, 7, 8, 10}"
      ]
     },
     "execution_count": 914,
     "metadata": {},
     "output_type": "execute_result"
    }
   ],
   "source": [
    "set_y = set(top_5_idx_spread)\n",
    "set_y"
   ]
  },
  {
   "cell_type": "code",
   "execution_count": 915,
   "id": "f0de21b2",
   "metadata": {},
   "outputs": [
    {
     "data": {
      "text/plain": [
       "5"
      ]
     },
     "execution_count": 915,
     "metadata": {},
     "output_type": "execute_result"
    }
   ],
   "source": [
    "next((a for a in top_5_idx_err if a in set_y), None)"
   ]
  },
  {
   "cell_type": "markdown",
   "id": "c08c7583",
   "metadata": {},
   "source": [
    "------------------"
   ]
  },
  {
   "cell_type": "code",
   "execution_count": 916,
   "id": "bf8a530e",
   "metadata": {},
   "outputs": [],
   "source": [
    "import statistics\n",
    "from sklearn.cluster import KMeans\n"
   ]
  },
  {
   "cell_type": "code",
   "execution_count": 917,
   "id": "be403e35",
   "metadata": {},
   "outputs": [],
   "source": [
    "bbox_list = [(18.02836799621582, 186.60694885253906, 1004.5089721679688, 239.12802124023438), (16.212627410888672, 144.3587188720703, 1004.5831298828125, 186.67320251464844), (65.23011016845703, 365.92388916015625, 1029.7822265625, 427.10772705078125), (56.66920852661133, 319.45989990234375, 1037.915283203125, 373.8955078125), (49.277130126953125, 407.0445556640625, 1048.332763671875, 468.65313720703125), (909.731201171875, 307.1251220703125, 1832.51171875, 360.315673828125), (17.368301391601562, 235.1055450439453, 1003.4365844726562, 290.0005187988281), (87.89532470703125, 474.7969055175781, 977.45263671875, 520.5686645507812), (85.50882720947266, 46.742671966552734, 978.0941772460938, 90.43806457519531), (86.95916748046875, 103.62701416015625, 975.91552734375, 145.3894805908203), (833.04296875, 369.2080078125, 1891.583740234375, 429.9313049316406), (68.03706359863281, 261.8932800292969, 1029.3836669921875, 326.4282531738281), (896.9214477539062, 365.14361572265625, 1842.89306640625, 400.32757568359375), (0.5160171985626221, 0.0, 1086.6295166015625, 50.502986907958984), (925.4583129882812, 259.51678466796875, 1813.256591796875, 300.6623840332031)]\n"
   ]
  },
  {
   "cell_type": "code",
   "execution_count": 918,
   "id": "a9f700d6",
   "metadata": {},
   "outputs": [],
   "source": [
    "centers = []\n",
    "for i in range(len(bbox_list)):\n",
    "    xmin, ymin = bbox_list[i][0], bbox_list[i][1]\n",
    "    xmax, ymax = bbox_list[i][2], bbox_list[i][3]\n",
    "    x_center, y_center = int((xmin + xmax) / 2), int((ymin + ymax) / 2)\n",
    "    centers.append((x_center, y_center))\n"
   ]
  },
  {
   "cell_type": "code",
   "execution_count": 919,
   "id": "27849739",
   "metadata": {},
   "outputs": [],
   "source": [
    "def calc_coverage(bbox_list, estimated_piles):\n",
    "    centers = []\n",
    "    for i in range(len(bbox_list)):\n",
    "        xmin, ymin = bbox_list[i][0], bbox_list[i][1]\n",
    "        xmax, ymax = bbox_list[i][2], bbox_list[i][3]\n",
    "        x_center, y_center = int((xmin + xmax) / 2), int((ymin + ymax) / 2)\n",
    "        centers.append((x_center, y_center))\n",
    "        \n",
    "    centers = np.array(centers)\n",
    "    bbox_list = np.array(bbox_list)\n",
    "        \n",
    "    clusterer = KMeans(n_clusters=estimated_piles, random_state=10)\n",
    "    pred_labels = clusterer.fit_predict(centers)\n",
    "    \n",
    "    len_dict = {}\n",
    "    for stacks in range(estimated_piles): len_dict[stacks] = []\n",
    "    for i in range(len(bbox_list)):\n",
    "        class_pred = clusterer.predict(centers[i].reshape(1,-1))\n",
    "        len_dict[class_pred[0]].append(bbox_list[i])\n",
    "    \n",
    "    comparison_min, comparison_max = [], []\n",
    "    for stack in len_dict:\n",
    "        group = np.array(len_dict[stack])\n",
    "        xmin_box, xmax_box = statistics.median(group[:,0]), statistics.median(group[:,2])\n",
    "        comparison_min.append(xmin_box)\n",
    "        comparison_max.append(xmax_box)\n",
    "            \n",
    "    left_index = comparison_min.index(min(comparison_min))  \n",
    "    right_index = comparison_min.index(max(comparison_min))  \n",
    "    found = [left_index, right_index]\n",
    "    notIn = [i for i in range(len(comparison_min)) if i not in found]\n",
    "    \n",
    "    if notIn:\n",
    "        sort_group_min = [comparison_min[left_index], comparison_min[notIn[0]], comparison_min[right_index]]\n",
    "        sort_group_max = [comparison_max[left_index], comparison_max[notIn[0]], comparison_max[right_index]]\n",
    "    else:\n",
    "        sort_group_min = [comparison_min[left_index], comparison_min[right_index]]\n",
    "        sort_group_max = [comparison_max[left_index], comparison_max[right_index]]\n",
    "    \n",
    "    for i in range(len(sort_group_min)-1):\n",
    "        if sort_group_min[i+1] < sort_group_max[i] :\n",
    "            sort_group_min[i+1] = sort_group_max[i] + 1\n",
    "\n",
    "    cur_coverage = 0\n",
    "    for i in range(len(sort_group_min)):\n",
    "        cur_coverage += (sort_group_max[i] - sort_group_min[i])\n",
    "        \n",
    "    ratio = cur_coverage/1892\n",
    "    return ratio"
   ]
  },
  {
   "cell_type": "code",
   "execution_count": 920,
   "id": "508cb3f8",
   "metadata": {
    "scrolled": true
   },
   "outputs": [
    {
     "data": {
      "text/plain": [
       "0.9607156578128484"
      ]
     },
     "execution_count": 920,
     "metadata": {},
     "output_type": "execute_result"
    }
   ],
   "source": [
    "calc_coverage(bbox_list, 3)"
   ]
  },
  {
   "cell_type": "code",
   "execution_count": 921,
   "id": "7a52846b",
   "metadata": {},
   "outputs": [],
   "source": [
    "estimated_piles = 3\n",
    "\n",
    "centers = np.array(centers)\n",
    "bbox_list = np.array(bbox_list)\n",
    "\n",
    "clusterer = KMeans(n_clusters=estimated_piles, random_state=10)\n",
    "pred_labels = clusterer.fit_predict(centers)\n"
   ]
  },
  {
   "cell_type": "code",
   "execution_count": 922,
   "id": "90c9abfe",
   "metadata": {},
   "outputs": [],
   "source": [
    "len_dict = {}\n",
    "for stacks in range(estimated_piles):# Initialize dictionary\n",
    "    len_dict[stacks] = []\n",
    "\n",
    "    \n",
    "for i in range(len(bbox_list)):\n",
    "    class_pred = clusterer.predict(centers[i].reshape(1,-1))\n",
    "    len_dict[class_pred[0]].append(bbox_list[i])"
   ]
  },
  {
   "cell_type": "code",
   "execution_count": 923,
   "id": "7ddc7448",
   "metadata": {},
   "outputs": [
    {
     "data": {
      "text/plain": [
       "([18.02836799621582, 903.3263244628906, 60.94965934753418],\n",
       " [1004.5089721679688, 1837.702392578125, 1029.5829467773438])"
      ]
     },
     "execution_count": 923,
     "metadata": {},
     "output_type": "execute_result"
    }
   ],
   "source": [
    "if estimated_piles == 2:\n",
    "    group1 =np.array(len_dict[0])\n",
    "    group2 = np.array(len_dict[1])\n",
    "    xmin_box1, xmax_box1 = statistics.median(group1[:,0]), statistics.median(group1[:,2])\n",
    "    xmin_box2, xmax_box2 = statistics.median(group2[:,0]), statistics.median(group2[:,2])\n",
    "    comparison_min= [xmin_box1, xmin_box2]\n",
    "    comparison_max= [xmax_box1, xmax_box2]\n",
    "else:\n",
    "    group1 =np.array(len_dict[0])\n",
    "    group2 = np.array(len_dict[1])\n",
    "    group3 = np.array(len_dict[2])\n",
    "    xmin_box1, xmax_box1 = statistics.median(group1[:,0]), statistics.median(group1[:,2])\n",
    "    xmin_box2, xmax_box2 = statistics.median(group2[:,0]), statistics.median(group2[:,2])\n",
    "    xmin_box3, xmax_box3 = statistics.median(group3[:,0]), statistics.median(group3[:,2])\n",
    "    comparison_min= [xmin_box1, xmin_box2, xmin_box3]\n",
    "    comparison_max= [xmax_box1, xmax_box2, xmax_box3]\n",
    "comparison_min, comparison_max"
   ]
  },
  {
   "cell_type": "code",
   "execution_count": 924,
   "id": "a7ab8a2f",
   "metadata": {},
   "outputs": [],
   "source": [
    "left_index = comparison_min.index(min(comparison_min))  \n",
    "right_index = comparison_min.index(max(comparison_min))  \n",
    "found = [left_index, right_index]"
   ]
  },
  {
   "cell_type": "code",
   "execution_count": 925,
   "id": "4c7d0e42",
   "metadata": {},
   "outputs": [],
   "source": [
    "notIn = [i for i in range(len(comparison_min)) if i not in found]"
   ]
  },
  {
   "cell_type": "code",
   "execution_count": 926,
   "id": "dd899c6c",
   "metadata": {},
   "outputs": [],
   "source": [
    "if notIn:\n",
    "    sort_group_min = [comparison_min[left_index], comparison_min[notIn[0]], comparison_min[right_index]]\n",
    "    sort_group_max = [comparison_max[left_index], comparison_max[notIn[0]], comparison_max[right_index]]\n",
    "else:\n",
    "    sort_group_min = [comparison_min[left_index], comparison_min[right_index]]\n",
    "    sort_group_max = [comparison_max[left_index], comparison_max[right_index]]"
   ]
  },
  {
   "cell_type": "code",
   "execution_count": 927,
   "id": "9b245108",
   "metadata": {},
   "outputs": [
    {
     "name": "stdout",
     "output_type": "stream",
     "text": [
      "swapped\n",
      "swapped\n"
     ]
    }
   ],
   "source": [
    "for i in range(len(sort_group_min)-1):\n",
    "    if sort_group_min[i+1] < sort_group_max[i] :\n",
    "        sort_group_min[i+1] = sort_group_max[i] + 1\n",
    "        print(\"swapped\")"
   ]
  },
  {
   "cell_type": "code",
   "execution_count": 928,
   "id": "66546050",
   "metadata": {},
   "outputs": [
    {
     "name": "stdout",
     "output_type": "stream",
     "text": [
      "18.02836799621582 1004.5089721679688\n",
      "1005.5089721679688 1029.5829467773438\n",
      "1030.5829467773438 1837.702392578125\n"
     ]
    }
   ],
   "source": [
    "for i in range(len(sort_group_min)):\n",
    "    print(sort_group_min[i], sort_group_max[i])"
   ]
  },
  {
   "cell_type": "code",
   "execution_count": 929,
   "id": "e2fc7205",
   "metadata": {},
   "outputs": [
    {
     "data": {
      "text/plain": [
       "0.9607156578128484"
      ]
     },
     "execution_count": 929,
     "metadata": {},
     "output_type": "execute_result"
    }
   ],
   "source": [
    "cur_coverage = 0\n",
    "for i in range(len(sort_group_min)):\n",
    "    cur_coverage += (sort_group_max[i] - sort_group_min[i])\n",
    "cur_coverage/1892"
   ]
  },
  {
   "cell_type": "markdown",
   "id": "83da377f",
   "metadata": {},
   "source": [
    "Eenhance V + Seg + DEtection\n",
    "GS Det\n"
   ]
  },
  {
   "cell_type": "code",
   "execution_count": 930,
   "id": "70c3b038",
   "metadata": {},
   "outputs": [],
   "source": [
    "from scipy.spatial import distance\n",
    "import cv2\n",
    "import numpy as np"
   ]
  },
  {
   "cell_type": "code",
   "execution_count": 931,
   "id": "3ae16e76",
   "metadata": {},
   "outputs": [],
   "source": [
    "def remove_wrong_index(indexes, pos):\n",
    "    rem_index, corr_index = [], []\n",
    "    for index, pos_type in enumerate(pos):\n",
    "        if pos_type == 1: \n",
    "            rem_index.append(index)\n",
    "\n",
    "    for i in range(len(indexes)):\n",
    "        if i not in rem_index: \n",
    "            corr_index.append(indexes[i])\n",
    "    return corr_index\n"
   ]
  },
  {
   "cell_type": "code",
   "execution_count": 932,
   "id": "290c805d",
   "metadata": {},
   "outputs": [],
   "source": [
    "def find_height(image_dir, estimated_piles, dPm = 0.68):\n",
    "    \n",
    "    image = cv2.imread(img_dir)\n",
    "    height, width, _ = image.shape\n",
    "    image_hsv = cv2.cvtColor(image, cv2.COLOR_RGB2HSV)\n",
    "    h_channel, s_channel, v_channel = image_hsv[:, :, 0], image_hsv[:, :, 1], image_hsv[:, :, 2]\n",
    "    v_enc = cv2.add(v_channel,-50)\n",
    "    blur = cv2.blur(v_enc, (13, 13))\n",
    "    dilated = cv2.dilate(blur, (9,9), iterations=3)\n",
    "\n",
    "    #thresh = cv2.threshold(dilated, 0, 255, cv2.THRESH_BINARY | cv2.THRESH_OTSU)[1]\n",
    "    thresh = cv2.threshold(dilated, 150, 255, cv2.THRESH_BINARY )[1]\n",
    "\n",
    "    thresh = cv2.bitwise_not(thresh)\n",
    "\n",
    "    (cnt, hierarchy) = cv2.findContours(thresh, cv2.RETR_EXTERNAL, cv2.CHAIN_APPROX_NONE)\n",
    "    cnt_areas = [cv2.contourArea(c) for c in cnt]\n",
    "    max_index = cnt_areas.index(max(cnt_areas)) \n",
    "    \n",
    "    cv2.imshow(\"Test\", thresh)\n",
    "    cv2.waitKey(0)\n",
    "    cv2.destroyAllWindows()\n",
    "    \n",
    "    offset = 100\n",
    "    whole_stack = []\n",
    "    pile_heights = []\n",
    "    \n",
    "    for coords in cnt[max_index]: \n",
    "        if offset < coords[0][0] < width-offset: \n",
    "            if coords[0][1] < int(height*0.3) or coords[0][1] > int(height*0.9):\n",
    "                whole_stack.append(coords[0])\n",
    "            \n",
    "    whole_stack_sort = sorted(whole_stack, key=lambda x: x[0])\n",
    "    stack_split = np.array_split(np.array(whole_stack_sort), estimated_piles)\n",
    "    \n",
    "    for stack_list in stack_split:\n",
    "        stack_median = int(statistics.median(np.array(stack_list)[:,0]))\n",
    "        indexes, pos = np.where(np.array(stack_list) == stack_median) \n",
    "        indexes = remove_wrong_index(indexes, pos)\n",
    "        \n",
    "        if len(indexes) >= 2:\n",
    "            image = cv2.line(image, stack_list[indexes[0]], stack_list[indexes[-1]], (255, 0, 255), 5)\n",
    "            curcoo = [stack_list[index] for index in indexes]\n",
    "            pile_heights.append(distance.euclidean(stack_list[indexes[0]], stack_list[indexes[-1]]) * dPm)\n",
    "        else:\n",
    "            print(\"Height estimation error\")\n",
    "            \n",
    "    return image, pile_heights        \n",
    "            "
   ]
  },
  {
   "cell_type": "code",
   "execution_count": 933,
   "id": "1af359be",
   "metadata": {
    "scrolled": false
   },
   "outputs": [],
   "source": [
    "img_dir = r'D:\\\\Ace Resource - Digital\\\\Research\\\\project1-DWV\\\\yolov5\\\\data\\\\test_images\\\\side3.jpg'\n",
    "fun_image, pile_heights = find_height(img_dir, 2)\n",
    "cv2.imshow(\"Test\", fun_image)\n",
    "cv2.waitKey(0)\n",
    "cv2.destroyAllWindows()"
   ]
  },
  {
   "cell_type": "markdown",
   "id": "1418e56c",
   "metadata": {},
   "source": [
    "### ----------------------------"
   ]
  },
  {
   "cell_type": "code",
   "execution_count": 934,
   "id": "62d3070a",
   "metadata": {},
   "outputs": [],
   "source": [
    "image = cv2.imread(img_dir)\n",
    "height, width, _ = image.shape\n",
    "image_hsv = cv2.cvtColor(image, cv2.COLOR_RGB2HSV)\n",
    "h_channel, s_channel, v_channel = image_hsv[:, :, 0], image_hsv[:, :, 1], image_hsv[:, :, 2]\n",
    "v_enc = cv2.add(v_channel,-50)\n",
    "blur = cv2.blur(v_enc, (13, 13))\n",
    "dilated = cv2.dilate(blur, (11,11), iterations=7)\n",
    "\n",
    "#thresh = cv2.threshold(dilated, 0, 255, cv2.THRESH_BINARY | cv2.THRESH_OTSU)[1]\n",
    "thresh = cv2.threshold(dilated, 150, 255, cv2.THRESH_BINARY )[1]\n",
    "\n",
    "thresh = cv2.bitwise_not(thresh)\n",
    "\n",
    "(cnt, hierarchy) = cv2.findContours(thresh, cv2.RETR_EXTERNAL, cv2.CHAIN_APPROX_NONE)"
   ]
  },
  {
   "cell_type": "code",
   "execution_count": 935,
   "id": "18d959b1",
   "metadata": {},
   "outputs": [],
   "source": [
    "cv2.imshow(\"Test\", thresh)\n",
    "cv2.waitKey(0)\n",
    "cv2.destroyAllWindows()"
   ]
  },
  {
   "cell_type": "code",
   "execution_count": 936,
   "id": "e3a7734c",
   "metadata": {},
   "outputs": [],
   "source": [
    "cnt_areas = [cv2.contourArea(c) for c in cnt]\n",
    "max_index = cnt_areas.index(max(cnt_areas))  \n",
    "image = cv2.drawContours(image, cnt[max_index], -1, (0, 255, 0), 1)\n",
    "cv2.imshow(\"Test\", image)\n",
    "cv2.waitKey(0)\n",
    "cv2.destroyAllWindows()"
   ]
  },
  {
   "cell_type": "code",
   "execution_count": 937,
   "id": "72e75ba1",
   "metadata": {},
   "outputs": [
    {
     "data": {
      "text/plain": [
       "(2005, 2005)"
      ]
     },
     "execution_count": 937,
     "metadata": {},
     "output_type": "execute_result"
    }
   ],
   "source": [
    "offset = 100\n",
    "whole_stack = []\n",
    "for coords in cnt[max_index]: \n",
    "    if offset < coords[0][0] < width-offset: \n",
    "        if coords[0][1] < int(height*0.3) or coords[0][1] > int(height*0.9):\n",
    "            whole_stack.append(coords[0])\n",
    "\n",
    "whole_stack_sort = sorted(whole_stack, key=lambda x: x[0])\n",
    "stack_split = np.array_split(np.array(whole_stack_sort), 2)\n",
    "len(stack_split[0]), len(stack_split[1])"
   ]
  },
  {
   "cell_type": "code",
   "execution_count": 938,
   "id": "6326f15a",
   "metadata": {},
   "outputs": [],
   "source": [
    "#image = cv2.imread(img_dir)\n",
    "image = cv2.drawContours(image, np.expand_dims(np.array(whole_stack), axis=1), -1, (255,0,255), 2)\n",
    "cv2.imshow(\"Test\", image)\n",
    "cv2.waitKey(0)\n",
    "cv2.destroyAllWindows()"
   ]
  },
  {
   "cell_type": "code",
   "execution_count": 939,
   "id": "c795d734",
   "metadata": {},
   "outputs": [
    {
     "name": "stdout",
     "output_type": "stream",
     "text": [
      "596\n",
      "[1001, 1002]\n",
      "1383\n",
      "[1002, 1003]\n"
     ]
    }
   ],
   "source": [
    "for stack_list in stack_split:\n",
    "    stack_median = int(statistics.median(np.array(stack_list)[:,0]))\n",
    "    indexes, pos = np.where(np.array(stack_list) == [stack_median]) \n",
    "    indexes = remove_wrong_index(indexes, pos)\n",
    "\n",
    "    print(stack_median)\n",
    "    print(indexes)"
   ]
  },
  {
   "cell_type": "code",
   "execution_count": 940,
   "id": "1fa5c0f9",
   "metadata": {},
   "outputs": [],
   "source": [
    "image = cv2.line(image, stack_split[0][1125], stack_split[0][1128], (255, 0, 255), 5)\n",
    "image = cv2.line(image, stack_split[1][1124], stack_split[1][1125], (255, 0, 255), 5)\n"
   ]
  },
  {
   "cell_type": "code",
   "execution_count": 941,
   "id": "76001f6e",
   "metadata": {},
   "outputs": [],
   "source": [
    "cv2.imshow(\"Test\", image)\n",
    "cv2.waitKey(0)\n",
    "cv2.destroyAllWindows()"
   ]
  },
  {
   "cell_type": "markdown",
   "id": "6f5c8e6a",
   "metadata": {},
   "source": [
    "------"
   ]
  },
  {
   "cell_type": "code",
   "execution_count": 942,
   "id": "58ffce55",
   "metadata": {},
   "outputs": [],
   "source": [
    "bbox_list = [(18.02836799621582, 186.60694885253906, 1004.5089721679688, 239.12802124023438), (16.212627410888672, 144.3587188720703, 1004.5831298828125, 186.67320251464844), (65.23011016845703, 365.92388916015625, 1029.7822265625, 427.10772705078125), (56.66920852661133, 319.45989990234375, 1037.915283203125, 373.8955078125), (49.277130126953125, 407.0445556640625, 1048.332763671875, 468.65313720703125), (909.731201171875, 307.1251220703125, 1832.51171875, 360.315673828125), (17.368301391601562, 235.1055450439453, 1003.4365844726562, 290.0005187988281), (87.89532470703125, 474.7969055175781, 977.45263671875, 520.5686645507812), (85.50882720947266, 46.742671966552734, 978.0941772460938, 90.43806457519531), (86.95916748046875, 103.62701416015625, 975.91552734375, 145.3894805908203), (833.04296875, 369.2080078125, 1891.583740234375, 429.9313049316406), (68.03706359863281, 261.8932800292969, 1029.3836669921875, 326.4282531738281), (896.9214477539062, 365.14361572265625, 1842.89306640625, 400.32757568359375), (0.5160171985626221, 0.0, 1086.6295166015625, 50.502986907958984), (925.4583129882812, 259.51678466796875, 1813.256591796875, 300.6623840332031)]"
   ]
  },
  {
   "cell_type": "code",
   "execution_count": 943,
   "id": "1915224c",
   "metadata": {},
   "outputs": [],
   "source": [
    "centers = []\n",
    "for i in range(len(bbox_list)):\n",
    "    xmin, ymin = bbox_list[i][0], bbox_list[i][1]\n",
    "    xmax, ymax = bbox_list[i][2], bbox_list[i][3]\n",
    "    x_center, y_center = int((xmin + xmax) / 2), int((ymin + ymax) / 2)\n",
    "    centers.append((x_center, y_center))\n",
    "\n",
    "centers = np.array(centers)\n",
    "bbox_list = np.array(bbox_list)"
   ]
  },
  {
   "cell_type": "code",
   "execution_count": 944,
   "id": "1d0c4816",
   "metadata": {},
   "outputs": [],
   "source": [
    "len_dict = {}\n",
    "clusterer = KMeans(n_clusters=2, random_state=10)\n",
    "pred_labels = clusterer.fit_predict(centers)\n",
    "\n",
    "for stacks in range(2): len_dict[stacks] = []\n",
    "for i in range(len(bbox_list)):\n",
    "    class_pred = clusterer.predict(centers[i].reshape(1, -1))\n",
    "    len_dict[class_pred[0]].append(bbox_list[i])"
   ]
  },
  {
   "cell_type": "code",
   "execution_count": 945,
   "id": "f800f0fc",
   "metadata": {},
   "outputs": [],
   "source": [
    "def det_deviation(bbox_list):\n",
    "    centers = []\n",
    "    for i in range(len(bbox_list)):\n",
    "        xmin, ymin = bbox_list[i][0], bbox_list[i][1]\n",
    "        xmax, ymax = bbox_list[i][2], bbox_list[i][3]\n",
    "        x_center, y_center = int((xmin + xmax) / 2), int((ymin + ymax) / 2)\n",
    "        centers.append((x_center, y_center))\n",
    "\n",
    "    centers = np.array(centers)\n",
    "    bbox_list = np.array(bbox_list)\n",
    "    \n",
    "    len_dict = {}\n",
    "    clusterer = KMeans(n_clusters=2, random_state=10)\n",
    "    pred_labels = clusterer.fit_predict(centers)\n",
    "\n",
    "    for stacks in range(2): len_dict[stacks] = []\n",
    "    for i in range(len(bbox_list)):\n",
    "        class_pred = clusterer.predict(centers[i].reshape(1, -1))\n",
    "        len_dict[class_pred[0]].append(bbox_list[i])\n",
    "    \n",
    "    #ratio = abs(len(len_dict[0]) -  len(len_dict[1])) / max(len(len_dict[0]),  len(len_dict[1]))\n",
    "    len_det = [len(len_dict[i]) for i in range(len(len_dict))]\n",
    "    ratio = (max(len_det) - min(len_det) )/ max(len_det)\n",
    "    return ratio"
   ]
  },
  {
   "cell_type": "code",
   "execution_count": 946,
   "id": "10217bb9",
   "metadata": {},
   "outputs": [
    {
     "data": {
      "text/plain": [
       "0.6363636363636364"
      ]
     },
     "execution_count": 946,
     "metadata": {},
     "output_type": "execute_result"
    }
   ],
   "source": [
    "det_deviation(bbox_list)"
   ]
  },
  {
   "cell_type": "markdown",
   "id": "c0f2718d",
   "metadata": {},
   "source": [
    "------------------"
   ]
  },
  {
   "cell_type": "code",
   "execution_count": 947,
   "id": "a6926c79",
   "metadata": {},
   "outputs": [],
   "source": [
    "big_bbox = {'Pile_2': [69, 479, 617, 50], 'Pile_1': [493, 479, 1518, 31], 'Pile_3': [1271, 479, 1813, 21]}\n"
   ]
  },
  {
   "cell_type": "code",
   "execution_count": 948,
   "id": "95d50d59",
   "metadata": {},
   "outputs": [],
   "source": [
    "x_diff = []\n",
    "for pile in big_bbox:\n",
    "    x1 = big_bbox[pile][0]\n",
    "    x2 = big_bbox[pile][2]\n",
    "    x_diff.append(x2-x1)"
   ]
  },
  {
   "cell_type": "code",
   "execution_count": 949,
   "id": "876cc67d",
   "metadata": {},
   "outputs": [],
   "source": [
    "x_diff_oir = x_diff"
   ]
  },
  {
   "cell_type": "code",
   "execution_count": 950,
   "id": "5c868de3",
   "metadata": {},
   "outputs": [
    {
     "name": "stdout",
     "output_type": "stream",
     "text": [
      "[-0.6938078774249123, 1.4141307055794392, -0.7203228281545268]\n"
     ]
    }
   ],
   "source": [
    "import numpy as np\n",
    "mean = np.mean(x_diff)\n",
    "std = np.std(x_diff)\n",
    "z_score = [(s - mean)/std for s in x_diff]\n",
    "print(z_score)"
   ]
  },
  {
   "cell_type": "code",
   "execution_count": 951,
   "id": "dffb7997",
   "metadata": {},
   "outputs": [],
   "source": [
    "check = np.abs(z_score) > 1"
   ]
  },
  {
   "cell_type": "code",
   "execution_count": 952,
   "id": "64a6e5c0",
   "metadata": {},
   "outputs": [
    {
     "name": "stdout",
     "output_type": "stream",
     "text": [
      "1\n"
     ]
    }
   ],
   "source": [
    "for idx, c in enumerate(check):\n",
    "    if c == True:\n",
    "        del x_diff[idx]\n",
    "        print(idx)"
   ]
  },
  {
   "cell_type": "code",
   "execution_count": 953,
   "id": "7c1f869c",
   "metadata": {},
   "outputs": [
    {
     "data": {
      "text/plain": [
       "[548, 542]"
      ]
     },
     "execution_count": 953,
     "metadata": {},
     "output_type": "execute_result"
    }
   ],
   "source": [
    "x_diff"
   ]
  },
  {
   "cell_type": "code",
   "execution_count": 954,
   "id": "642216d6",
   "metadata": {},
   "outputs": [],
   "source": [
    "big_keys = list(big_bbox.keys())\n"
   ]
  },
  {
   "cell_type": "code",
   "execution_count": 955,
   "id": "79f1cd82",
   "metadata": {},
   "outputs": [],
   "source": [
    "if np.std(x_diff) < 50:\n",
    "    big_bbox[big_keys[1]][0] =  big_bbox[big_keys[0]][0]"
   ]
  },
  {
   "cell_type": "code",
   "execution_count": 956,
   "id": "849aceb4",
   "metadata": {},
   "outputs": [],
   "source": [
    "def constraint_bbox(big_bbox_dict):\n",
    "    big_keys = list(big_bbox_dict.keys())\n",
    "    \n",
    "    x_diff = []\n",
    "    for pile in big_bbox:\n",
    "        x1 = big_bbox_dict[pile][0]\n",
    "        x2 = big_bbox_dict[pile][2]\n",
    "        x_diff.append(x2-x1)\n",
    "        \n",
    "    mean = np.mean(x_diff)\n",
    "    std = np.std(x_diff)\n",
    "    z_score = [(s - mean)/std for s in x_diff]\n",
    "    check = np.abs(z_score) > 1\n",
    "    \n",
    "    for idx, c in enumerate(check):\n",
    "        if c == True:\n",
    "            del x_diff[idx]\n",
    "            prob_idx = idx\n",
    "            \n",
    "    if np.std(x_diff) < 50:\n",
    "        big_bbox[big_keys[prob_idx]][0] =  big_bbox[big_keys[prob_idx-1]][2] + 1 \n",
    "    \n",
    "    return big_bbox_dict"
   ]
  },
  {
   "cell_type": "code",
   "execution_count": 957,
   "id": "929a950c",
   "metadata": {},
   "outputs": [
    {
     "data": {
      "text/plain": [
       "{'Pile_2': [69, 479, 617, 50],\n",
       " 'Pile_1': [618, 479, 1518, 31],\n",
       " 'Pile_3': [1271, 479, 1813, 21]}"
      ]
     },
     "execution_count": 957,
     "metadata": {},
     "output_type": "execute_result"
    }
   ],
   "source": [
    "constraint_bbox(big_bbox)"
   ]
  },
  {
   "cell_type": "markdown",
   "id": "64711a68",
   "metadata": {},
   "source": [
    "------------"
   ]
  },
  {
   "cell_type": "code",
   "execution_count": 958,
   "id": "f32ffb07",
   "metadata": {},
   "outputs": [],
   "source": [
    "import statistics \n",
    "import pandas as pd"
   ]
  },
  {
   "cell_type": "code",
   "execution_count": 959,
   "id": "2f0928dc",
   "metadata": {},
   "outputs": [],
   "source": [
    "det_list = [21, 17, 16, 15, 9, 5, 5, 5, 5, 5, 5]\n",
    "deviation_list = [0.25, 0.1111111111111111, 0.4, 0.5, 0.7142857142857143, 0.3333333333333333, 0.3333333333333333, 0.3333333333333333, 0.3333333333333333, 0.3333333333333333, 0.75]\n",
    "coverage_list = [0.9451199809710185, 0.8474826415379842, 0.8156929175059001, 0.8092694004376729, 0.8308176676432292, 0.8425328731536865, 0.8414589802424113, 0.8399454434712728, 0.8438013315200805, 0.8497775236765543, 0.8571247259775797]"
   ]
  },
  {
   "cell_type": "code",
   "execution_count": 960,
   "id": "99030e71",
   "metadata": {},
   "outputs": [],
   "source": [
    "def get_contrast(det_list, deviation_list, coverage_list):\n",
    "    det_mean = statistics.mean(det_list)\n",
    "    dev_mean = statistics.mean(deviation_list)\n",
    "    cov_mean = statistics.mean(coverage_list)\n",
    "    \n",
    "    det_new, dev_new, cov_new, compare = [], [], [], []\n",
    "    det_check = np.array(det_list) > det_mean\n",
    "    for idx, check in enumerate(det_check):\n",
    "        if check == True:\n",
    "            det_new.append(idx)\n",
    "\n",
    "    dev_check = np.array(deviation_list) < dev_mean\n",
    "    for idx, check in enumerate(dev_check):\n",
    "        if check == True:\n",
    "            dev_new.append(idx)\n",
    "\n",
    "    cov_check = np.array(coverage_list) > cov_mean\n",
    "    for idx, check in enumerate(cov_check):\n",
    "        if check == True:\n",
    "            cov_new.append(idx)\n",
    "            \n",
    "    candidates = np.intersect1d(np.intersect1d(det_new, dev_new), cov_new)\n",
    "    if len(candidates) == 1: return candidates[0]\n",
    "    elif len(candidates) > 1: \n",
    "        for index in t: \n",
    "            compare.append(det_list[index])\n",
    "            return candidates[compare.index(max(compare))]\n",
    "    else: return det_list.index(max(det_list))"
   ]
  },
  {
   "cell_type": "code",
   "execution_count": 961,
   "id": "7a7ad290",
   "metadata": {},
   "outputs": [
    {
     "data": {
      "text/plain": [
       "0"
      ]
     },
     "execution_count": 961,
     "metadata": {},
     "output_type": "execute_result"
    }
   ],
   "source": [
    "get_contrast(det_list, deviation_list, coverage_list)"
   ]
  },
  {
   "cell_type": "code",
   "execution_count": 962,
   "id": "ba2567e7",
   "metadata": {},
   "outputs": [
    {
     "name": "stdout",
     "output_type": "stream",
     "text": [
      "9.818181818181818 0.3992784992784993 0.8475475896488537\n"
     ]
    }
   ],
   "source": [
    "det_mean = statistics.mean(det_list)\n",
    "dev_mean = statistics.mean(deviation_list)\n",
    "cov_mean = statistics.mean(coverage_list)\n",
    "print(det_mean , dev_mean, cov_mean)"
   ]
  },
  {
   "cell_type": "code",
   "execution_count": 963,
   "id": "5e02c636",
   "metadata": {},
   "outputs": [],
   "source": [
    "det_new, dev_new, cov_new = [], [], []\n",
    "det_check = np.array(det_list) > det_mean\n",
    "for idx, check in enumerate(det_check):\n",
    "    if check == True:\n",
    "        det_new.append(idx)\n",
    "\n",
    "dev_check = np.array(deviation_list) < dev_mean\n",
    "for idx, check in enumerate(dev_check):\n",
    "    if check == True:\n",
    "        dev_new.append(idx)\n",
    "\n",
    "cov_check = np.array(coverage_list) > cov_mean\n",
    "for idx, check in enumerate(cov_check):\n",
    "    if check == True:\n",
    "        cov_new.append(idx)"
   ]
  },
  {
   "cell_type": "code",
   "execution_count": 964,
   "id": "40700ac8",
   "metadata": {},
   "outputs": [
    {
     "data": {
      "text/plain": [
       "([0, 1, 2, 3], [0, 1, 5, 6, 7, 8, 9], [0, 9, 10])"
      ]
     },
     "execution_count": 964,
     "metadata": {},
     "output_type": "execute_result"
    }
   ],
   "source": [
    "det_new, dev_new, cov_new"
   ]
  },
  {
   "cell_type": "code",
   "execution_count": 965,
   "id": "9848e316",
   "metadata": {},
   "outputs": [
    {
     "data": {
      "text/plain": [
       "array([0])"
      ]
     },
     "execution_count": 965,
     "metadata": {},
     "output_type": "execute_result"
    }
   ],
   "source": [
    "np.intersect1d(np.intersect1d(det_new, dev_new), cov_new)"
   ]
  },
  {
   "cell_type": "code",
   "execution_count": 966,
   "id": "73861f33",
   "metadata": {},
   "outputs": [
    {
     "data": {
      "text/plain": [
       "0"
      ]
     },
     "execution_count": 966,
     "metadata": {},
     "output_type": "execute_result"
    }
   ],
   "source": [
    "import random\n",
    "random.randint(0,1)"
   ]
  },
  {
   "cell_type": "markdown",
   "id": "5859df32",
   "metadata": {},
   "source": [
    "--------------"
   ]
  },
  {
   "cell_type": "code",
   "execution_count": 967,
   "id": "53880742",
   "metadata": {},
   "outputs": [],
   "source": [
    "import cv2"
   ]
  },
  {
   "cell_type": "code",
   "execution_count": 968,
   "id": "4f21cbb6",
   "metadata": {},
   "outputs": [],
   "source": [
    "img_dir = r'D:\\Ace Resource - Digital\\Research\\project1-DWV\\yolov5\\data\\test_images\\side2.jpg'\n",
    "image = cv2.imread(img_dir)"
   ]
  },
  {
   "cell_type": "code",
   "execution_count": null,
   "id": "532a3f4f",
   "metadata": {},
   "outputs": [],
   "source": [
    "cv2.imshow(\"Test\", image)\n",
    "cv2.waitKey(0)\n",
    "cv2.destroyAllWindows()"
   ]
  },
  {
   "cell_type": "code",
   "execution_count": null,
   "id": "ac31f2d4",
   "metadata": {},
   "outputs": [],
   "source": [
    "showCrosshair = False\n",
    "fromCenter = False\n",
    "r = cv2.selectROI(\"Image\", image, fromCenter, showCrosshair)\n",
    "cv2.destroyAllWindows()"
   ]
  },
  {
   "cell_type": "code",
   "execution_count": null,
   "id": "814920d9",
   "metadata": {},
   "outputs": [],
   "source": [
    "r"
   ]
  },
  {
   "cell_type": "code",
   "execution_count": null,
   "id": "67b87342",
   "metadata": {},
   "outputs": [],
   "source": [
    "pile_heights  = [235.33, 234.32, 222.11]"
   ]
  },
  {
   "cell_type": "code",
   "execution_count": null,
   "id": "4602c886",
   "metadata": {},
   "outputs": [],
   "source": [
    "print (\"Heights = \" + str(pile_heights)[1:-1].replace(',', ' '))"
   ]
  },
  {
   "cell_type": "code",
   "execution_count": 2,
   "id": "e79bf897",
   "metadata": {},
   "outputs": [],
   "source": [
    "from inf_utils import show_image\n",
    "import cv2\n",
    "import numpy as np\n",
    "import statistics\n",
    "from scipy.spatial import distance\n",
    "import matplotlib.pyplot as plt\n"
   ]
  },
  {
   "cell_type": "code",
   "execution_count": 3,
   "id": "4edf78b6",
   "metadata": {},
   "outputs": [],
   "source": [
    "def remove_wrong_index(indexes, pos):\n",
    "    wrong_index, correct_index  = [], []\n",
    "    [wrong_index.append(index) for index, pos_type in enumerate(pos) if pos_type ==1]\n",
    "    [correct_index.append(indexes[i]) for i in range(len(indexes)) if i not in wrong_index]\n",
    "    return correct_index"
   ]
  },
  {
   "cell_type": "code",
   "execution_count": 4,
   "id": "4c7d4dd7",
   "metadata": {},
   "outputs": [],
   "source": [
    "def remove_dark_bg(image, threshold=70):\n",
    "    height, width = image.shape\n",
    "\n",
    "    for i in range(height):\n",
    "        for j in range(width):\n",
    "            if image[i, j] < threshold:\n",
    "                image[i, j] = 255\n",
    "\n",
    "    return image"
   ]
  },
  {
   "cell_type": "code",
   "execution_count": 16,
   "id": "1ea132fe",
   "metadata": {},
   "outputs": [],
   "source": [
    "def get_height_v2(image, estimated_piles, dPm, width_offset=100):\n",
    "    height, width, _ = image.shape\n",
    "    image_hsv = cv2.cvtColor(image, cv2.COLOR_RGB2HSV)\n",
    "    avg_pixel = np.average(image_hsv[:,:,2])\n",
    "    #if avg_pixel < 100: v_enc = cv2.add(image_hsv[:, :, 2], 50)\n",
    "    v_enc = remove_dark_bg(image_hsv[:,:,2], threshold= int(avg_pixel*0.2)) # TODO: tune this threshold\n",
    "    threshold_value = np.median(v_enc.flatten()) * 1.33\n",
    "    blur = cv2.blur(v_enc, (13, 13))\n",
    "    dilated = cv2.dilate(blur, (9, 9), iterations=3)\n",
    "    thresh = cv2.threshold(dilated, threshold_value, 255, cv2.THRESH_BINARY_INV)[1]\n",
    "    (cnt, hierarchy) = cv2.findContours(thresh, cv2.RETR_EXTERNAL, cv2.CHAIN_APPROX_NONE)\n",
    "    cnt_areas = [cv2.contourArea(c) for c in cnt]\n",
    "    max_index = cnt_areas.index(max(cnt_areas)) # get entire wood stack contour\n",
    "    filtered_contour, pile_heights, height_coords, correct_index = [], [], [], []\n",
    "    for coords in cnt[max_index]: # main purpose to remove noises within contour\n",
    "        if width_offset < coords[0][0] < width - width_offset: # width within accepted region\n",
    "            if  int(height * 0.03) < coords[0][1] < int(height * 0.4) or (coords[0][1] > int(height * 0.9)): # height within accepted region\n",
    "                filtered_contour.append(coords[0])\n",
    "    filtered_contour_sort = sorted(filtered_contour, key=lambda x: x[0])\n",
    "    stack_contour_split = np.array_split(np.array(filtered_contour_sort), estimated_piles)\n",
    "\n",
    "    for stack_list in stack_contour_split: # find median of stack contour\n",
    "        stack_median = int(statistics.median(np.array(stack_list)[:, 0]))\n",
    "        # remove found index in height position (only retain width findings)\n",
    "        satisfied = False\n",
    "        while not satisfied: # find height pairs \n",
    "            indexes, pos = np.where(np.array(stack_list) == stack_median)\n",
    "            correct_index = remove_wrong_index(indexes, pos)\n",
    "            stack_median += 1\n",
    "            if len(correct_index) == 2 : \n",
    "                estimated_stack_height = round(distance.euclidean(stack_list[correct_index[0]], stack_list[correct_index[-1]]) * dPm, 2)\n",
    "                if estimated_stack_height > int(height * dPm * 0.7):\n",
    "                    image = cv2.line(image, stack_list[correct_index[0]], stack_list[correct_index[-1]], (255, 0, 255), 2)\n",
    "                    image = cv2.putText(image, \"H = \" + str(estimated_stack_height),\n",
    "                                        (int(stack_list[correct_index[0]][0]), int(stack_list[correct_index[0]][1])-5),\n",
    "                                        cv2.FONT_HERSHEY_DUPLEX, 0.5, (255, 0, 255), 1, cv2.LINE_AA)\n",
    "                    pile_heights.append(estimated_stack_height)\n",
    "                    height_coords.append([stack_list[correct_index[0]], stack_list[correct_index[-1]]])\n",
    "                    satisfied = True\n",
    "                else: satisfied = False\n",
    "            if stack_median > len(stack_list): \n",
    "                print(\"Not found\")\n",
    "                break\n",
    "    \n",
    "    return image, pile_heights, height_coords"
   ]
  },
  {
   "cell_type": "code",
   "execution_count": 20,
   "id": "7a57d588",
   "metadata": {},
   "outputs": [],
   "source": [
    "img_dir = r'D:\\Ace Resource - Digital\\Research\\project1-DWV\\yolov5\\data\\test_images\\extra7.png'\n",
    "image = cv2.imread(img_dir)\n",
    "image, pile_heights, height_coords = get_height_v2(image, 2, 0.35)\n",
    "show_image(\"final\", image)"
   ]
  },
  {
   "cell_type": "code",
   "execution_count": 8,
   "id": "f87ca173",
   "metadata": {},
   "outputs": [
    {
     "name": "stdout",
     "output_type": "stream",
     "text": [
      "Average =  100.5166572972535\n"
     ]
    }
   ],
   "source": [
    "estimated_piles = 2\n",
    "dPm = 0.35\n",
    "img_dir = r'D:\\Ace Resource - Digital\\Research\\project1-DWV\\yolov5\\data\\test_images\\side5.jpg'\n",
    "image = cv2.imread(img_dir)\n",
    "height, width, _ = image.shape\n",
    "image_hsv = cv2.cvtColor(image, cv2.COLOR_RGB2HSV)\n",
    "show_image(\"bfore\", image_hsv[:,:,2])\n",
    "\n",
    "print(\"Average = \", np.average(image_hsv[:,:,2]))\n",
    "avg_pixel = np.average(image_hsv[:,:,2])\n",
    "if avg_pixel < 100:\n",
    "    v_enc = cv2.add(image_hsv[:, :, 2], 50)\n",
    "    v_enc = remove_dark_bg(image_hsv[:,:,2], threshold= int(avg_pixel*0.2)) # tune this threshold\n",
    "else:\n",
    "    v_enc = remove_dark_bg(image_hsv[:,:,2], threshold = int(avg_pixel*0.2)) "
   ]
  },
  {
   "cell_type": "code",
   "execution_count": 9,
   "id": "499fabe8",
   "metadata": {},
   "outputs": [],
   "source": [
    "show_image(\"after\", v_enc)"
   ]
  },
  {
   "cell_type": "code",
   "execution_count": 10,
   "id": "ac506d25",
   "metadata": {},
   "outputs": [
    {
     "data": {
      "text/plain": [
       "126.35000000000001"
      ]
     },
     "execution_count": 10,
     "metadata": {},
     "output_type": "execute_result"
    }
   ],
   "source": [
    "t1 = np.median(v_enc.flatten()) * 1.33\n",
    "t1"
   ]
  },
  {
   "cell_type": "code",
   "execution_count": 11,
   "id": "12d29372",
   "metadata": {},
   "outputs": [],
   "source": [
    "blur = cv2.blur(v_enc, (13, 13))\n",
    "dilated = cv2.dilate(blur, (9, 9), iterations=3)\n",
    "show_image(\"Segmentation\", dilated)\n",
    "thresh = cv2.threshold(dilated, t1, 255, cv2.THRESH_BINARY_INV)[1] # lesser than threshold -> white (0) ; else black (255)\n",
    "#thresh = cv2.inRange(dilated, 30, 50)\n",
    "#thresh = cv2.bitwise_not(thresh)\n",
    "show_image(\"Thresh\", thresh)\n",
    "(cnt, hierarchy) = cv2.findContours(thresh, cv2.RETR_EXTERNAL, cv2.CHAIN_APPROX_NONE) # find white pixels"
   ]
  },
  {
   "cell_type": "markdown",
   "id": "25de01fc",
   "metadata": {},
   "source": [
    "#v_enc\n",
    "#show_image(\"enc\", image_hsv[:, :, 2])\n",
    "image = cv2.imread(img_dir)\n",
    "image = cv2.drawContours(image, cnt, 0, (0,255,0), 1)\n",
    "show_image(\"T\", image)"
   ]
  },
  {
   "cell_type": "code",
   "execution_count": 12,
   "id": "3baeeeaa",
   "metadata": {},
   "outputs": [],
   "source": [
    "cnt_areas = [cv2.contourArea(c) for c in cnt]\n",
    "max_index = cnt_areas.index(max(cnt_areas)) # get entire wood stack contour\n",
    "width_offset = 100\n",
    "\n",
    "filtered_contour, pile_heights, height_coords, correct_index = [], [], [], []\n",
    "for coords in cnt[max_index]: # main purpose to remove noises within contour\n",
    "    if width_offset < coords[0][0] < width - width_offset: # width within accepted region\n",
    "        if  int(height * 0.03) < coords[0][1] < int(height * 0.4) or (coords[0][1] > int(height * 0.9)): # height within accepted region\n",
    "            filtered_contour.append(coords[0])\n",
    "filtered_contour_sort = sorted(filtered_contour, key=lambda x: x[0])\n",
    "stack_contour_split = np.array_split(np.array(filtered_contour_sort), estimated_piles)\n",
    "\n",
    "\n"
   ]
  },
  {
   "cell_type": "code",
   "execution_count": 13,
   "id": "bb3bd0b8",
   "metadata": {},
   "outputs": [],
   "source": [
    "image = cv2.imread(img_dir)\n",
    "image = cv2.drawContours(image, stack_contour_split, -1, (0,255,0), 1)\n",
    "show_image(\"T\", image)"
   ]
  },
  {
   "cell_type": "code",
   "execution_count": 14,
   "id": "05b28183",
   "metadata": {},
   "outputs": [
    {
     "name": "stdout",
     "output_type": "stream",
     "text": [
      "[112.35, 129.85] [[array([482,  88], dtype=int32), array([482, 409], dtype=int32)], [array([1367,   40], dtype=int32), array([1367,  411], dtype=int32)]]\n"
     ]
    }
   ],
   "source": [
    "image = cv2.imread(img_dir)\n",
    "for stack_list in stack_contour_split: # find median of stack contour\n",
    "    stack_median = int(statistics.median(np.array(stack_list)[:, 0]))\n",
    "\n",
    "    # remove found index in height position (only retain width findings)\n",
    "    satisfied = False\n",
    "    while not satisfied: # TO DO find pairs \n",
    "        indexes, pos = np.where(np.array(stack_list) == stack_median)\n",
    "        correct_index = remove_wrong_index(indexes, pos)\n",
    "        stack_median += 1\n",
    "        if len(correct_index) == 2 : \n",
    "            estimated_stack_height = round(distance.euclidean(stack_list[correct_index[0]], stack_list[correct_index[-1]]) * dPm, 2)\n",
    "            if estimated_stack_height > int(height * dPm * 0.7):\n",
    "                image = cv2.line(image, stack_list[correct_index[0]], stack_list[correct_index[-1]], (255, 0, 255), 2)\n",
    "                image = cv2.putText(image, \"H = \" + str(estimated_stack_height),\n",
    "                                    (int(stack_list[correct_index[0]][0]), int(stack_list[correct_index[0]][1])-5),\n",
    "                                    cv2.FONT_HERSHEY_DUPLEX, 0.5, (255, 0, 255), 1, cv2.LINE_AA)\n",
    "                pile_heights.append(estimated_stack_height)\n",
    "                height_coords.append([stack_list[correct_index[0]], stack_list[correct_index[-1]]])\n",
    "                satisfied = True\n",
    "            else: satisfied = False\n",
    "        if stack_median > len(stack_list): \n",
    "            print(\"Not found\")\n",
    "            break\n",
    "\n",
    "print(pile_heights, height_coords)\n",
    "show_image(\"final\", image)"
   ]
  },
  {
   "cell_type": "code",
   "execution_count": 15,
   "id": "d9f761a0",
   "metadata": {},
   "outputs": [],
   "source": [
    "# if found height = image.height -> increment remove_black threshold"
   ]
  },
  {
   "cell_type": "code",
   "execution_count": 27,
   "id": "e2c253b3",
   "metadata": {},
   "outputs": [],
   "source": [
    "def generate_random_lines(imshape,slant,drop_length):    \n",
    "    drops=[]    \n",
    "    for i in range(1500): ## If You want heavy rain, try increasing this        \n",
    "        if slant<0:            \n",
    "            x= np.random.randint(slant,imshape[1])        \n",
    "        else:            \n",
    "            x= np.random.randint(0,imshape[1]-slant)        \n",
    "            y= np.random.randint(0,imshape[0]-drop_length)        \n",
    "            drops.append((x,y))    \n",
    "    return drops            \n",
    "\n",
    "def add_rain(image):        \n",
    "    imshape = image.shape    \n",
    "    slant_extreme=10    \n",
    "    slant= np.random.randint(-slant_extreme,slant_extreme)     \n",
    "    drop_length=20    \n",
    "    drop_width=2    \n",
    "    drop_color=(200,200,200) ## a shade of gray    \n",
    "    rain_drops= generate_random_lines(imshape,slant,drop_length)        \n",
    "    for rain_drop in rain_drops:        \n",
    "        cv2.line(image,(rain_drop[0],rain_drop[1]),(rain_drop[0]+slant,rain_drop[1]+drop_length),drop_color,drop_width)  \n",
    "          \n",
    "    image= cv2.blur(image,(3,3)) ## rainy view are blurry        \n",
    "    brightness_coefficient = 0.8 ## rainy days are usually shady     \n",
    "    image_HLS = cv2.cvtColor(image,cv2.COLOR_RGB2HLS) ## Conversion to HLS    \n",
    "    image_HLS[:,:,1] = image_HLS[:,:,1]*brightness_coefficient ## scale pixel values down for channel 1(Lightness)    \n",
    "    image_RGB = cv2.cvtColor(image_HLS,cv2.COLOR_HLS2RGB) ## Conversion to RGB    \n",
    "    return image_RGB\n"
   ]
  },
  {
   "cell_type": "code",
   "execution_count": 28,
   "id": "58a6e8be",
   "metadata": {},
   "outputs": [],
   "source": [
    "show_image(\"Original\", image)"
   ]
  },
  {
   "cell_type": "code",
   "execution_count": 26,
   "id": "8997e407",
   "metadata": {},
   "outputs": [],
   "source": [
    "rain_image = add_rain(image)\n",
    "show_image(\"rain\", rain_image)"
   ]
  },
  {
   "cell_type": "code",
   "execution_count": null,
   "id": "eaac6c68",
   "metadata": {},
   "outputs": [],
   "source": []
  }
 ],
 "metadata": {
  "kernelspec": {
   "display_name": "Python 3.7.11 ('ace')",
   "language": "python",
   "name": "python3"
  },
  "language_info": {
   "codemirror_mode": {
    "name": "ipython",
    "version": 3
   },
   "file_extension": ".py",
   "mimetype": "text/x-python",
   "name": "python",
   "nbconvert_exporter": "python",
   "pygments_lexer": "ipython3",
   "version": "3.7.11"
  },
  "varInspector": {
   "cols": {
    "lenName": 16,
    "lenType": 16,
    "lenVar": 40
   },
   "kernels_config": {
    "python": {
     "delete_cmd_postfix": "",
     "delete_cmd_prefix": "del ",
     "library": "var_list.py",
     "varRefreshCmd": "print(var_dic_list())"
    },
    "r": {
     "delete_cmd_postfix": ") ",
     "delete_cmd_prefix": "rm(",
     "library": "var_list.r",
     "varRefreshCmd": "cat(var_dic_list()) "
    }
   },
   "types_to_exclude": [
    "module",
    "function",
    "builtin_function_or_method",
    "instance",
    "_Feature"
   ],
   "window_display": false
  },
  "vscode": {
   "interpreter": {
    "hash": "a7724f7d2ee6b9e02ea85425a13d2260d1e444366e69e1ac046f54037544860b"
   }
  }
 },
 "nbformat": 4,
 "nbformat_minor": 5
}
